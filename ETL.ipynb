{
 "cells": [
  {
   "cell_type": "code",
   "execution_count": 2,
   "metadata": {},
   "outputs": [],
   "source": [
    "import os\n",
    "from google.cloud import bigquery\n",
    "import pandas as pd"
   ]
  },
  {
   "cell_type": "code",
   "execution_count": 3,
   "metadata": {},
   "outputs": [],
   "source": [
    "credentials = os.environ[\"GOOGLE_APPLICATION_CREDENTIALS\"] =\"ETL-setup.json\""
   ]
  },
  {
   "cell_type": "code",
   "execution_count": 9,
   "metadata": {},
   "outputs": [],
   "source": [
    "#load data from local machine to bigquery - staging area\n",
    "def load_csv_to_bigquery(csv_path, project_id, table_name):\n",
    "    dataset_name = 'staging'\n",
    "    # Create a BigQuery client using your service account key file\n",
    "    #credentials = service_account.Credentials.from_service_account_file(key_path)\n",
    "    client = bigquery.Client(project=project_id)\n",
    "\n",
    "    # Read the CSV file into a Pandas dataframe\n",
    "    df = pd.read_csv(csv_path)\n",
    "\n",
    "    # Create the BigQuery dataset if it doesn't exist\n",
    "    dataset_ref = client.dataset(dataset_name)\n",
    "    try:\n",
    "        client.get_dataset(dataset_ref)\n",
    "        print(\"Dataset {} already exists\".format(dataset_name))\n",
    "    except:\n",
    "        print(\"Creating dataset {}\".format(dataset_name))\n",
    "        dataset = bigquery.Dataset(dataset_ref)\n",
    "        client.create_dataset(dataset)\n",
    "\n",
    "    # Set the destination table for the data\n",
    "    table_ref = dataset_ref.table(table_name)\n",
    "\n",
    "    # Define the schema of the table\n",
    "    schema = []\n",
    "    for column in df.columns:\n",
    "        schema.append(bigquery.SchemaField(column, 'STRING'))\n",
    "\n",
    "    # Create the table in BigQuery\n",
    "    table = bigquery.Table(table_ref, schema=schema)\n",
    "    table = client.create_table(table)\n",
    "\n",
    "    # Load the data into the table\n",
    "    job_config = bigquery.LoadJobConfig()\n",
    "    job_config.source_format = bigquery.SourceFormat.CSV\n",
    "    job_config.skip_leading_rows = 1\n",
    "    job_config.autodetect = False # Set to True to automatically detect schema, False to use schema defined above\n",
    "    job = client.load_table_from_dataframe(df, table_ref, job_config=job_config)\n",
    "    job.result()\n",
    "\n",
    "    print(\"Data uploaded to BigQuery successfully.\")"
   ]
  },
  {
   "cell_type": "code",
   "execution_count": 13,
   "metadata": {},
   "outputs": [
    {
     "name": "stdout",
     "output_type": "stream",
     "text": [
      "Creating dataset staging\n",
      "Data uploaded to BigQuery successfully.\n"
     ]
    }
   ],
   "source": [
    "load_csv_to_bigquery(\"C:\\\\Users\\\\UX501VW\\\\Desktop\\\\BigQuery-Data-Modeling\\\\Dastaset\\\\demographic.csv\", \"snappy-nomad-382716\", \"demographic\")"
   ]
  },
  {
   "cell_type": "code",
   "execution_count": 14,
   "metadata": {},
   "outputs": [
    {
     "name": "stdout",
     "output_type": "stream",
     "text": [
      "Dataset staging already exists\n",
      "Data uploaded to BigQuery successfully.\n",
      "Dataset staging already exists\n",
      "Data uploaded to BigQuery successfully.\n"
     ]
    }
   ],
   "source": [
    "load_csv_to_bigquery(\"C:\\\\Users\\\\UX501VW\\\\Desktop\\\\BigQuery-Data-Modeling\\\\Dastaset\\\\referral.csv\", \"snappy-nomad-382716\", \"referal\")\n",
    "load_csv_to_bigquery(\"C:\\\\Users\\\\UX501VW\\\\Desktop\\\\BigQuery-Data-Modeling\\\\Dastaset\\\\transactions.csv\", \"snappy-nomad-382716\", \"transactions\")"
   ]
  },
  {
   "cell_type": "code",
   "execution_count": 7,
   "metadata": {},
   "outputs": [],
   "source": [
    "\n",
    "def clean_bigquery_table(project_id, table_id,remove_nulls=False,remove_duplicates=False,columns_to_check=None):\n",
    "    \"\"\"\n",
    "    Clean a BigQuery table by removing null values and/or duplicates.\n",
    "\n",
    "    Args:\n",
    "        project_id (str): The Google Cloud Project ID.\n",
    "        table_id (str): The BigQuery table ID.\n",
    "        remove_nulls (bool, optional): Whether to remove rows with null values. Defaults to False.\n",
    "        columns_to_check (list, optional): List of columns to check for null values or duplicates. Defaults to None (all columns).\n",
    "        remove_duplicates (bool, optional): Whether to remove duplicate rows. Defaults to False.\n",
    "\n",
    "    Returns:\n",
    "        None\n",
    "    \"\"\"\n",
    "    client = bigquery.Client()\n",
    "    table_ref = client.get_table(table_id)\n",
    "    table = client.get_table(table_ref)\n",
    "\n",
    "    if columns_to_check is None:\n",
    "        columns_to_check = [field.name for field in table.schema]\n",
    "\n",
    "    sql_base = f\"SELECT * FROM `{table_id}`\"\n",
    "    sql_conditions = []\n",
    "\n",
    "    if remove_nulls:\n",
    "        not_null_conditions = [f\"{column} IS NOT NULL\" for column in columns_to_check]\n",
    "        sql_conditions.append(\" AND \".join(not_null_conditions))\n",
    "\n",
    "    if remove_duplicates:\n",
    "        deduplicate_clause = \"SELECT DISTINCT\"\n",
    "    else:\n",
    "        deduplicate_clause = \"SELECT\"\n",
    "\n",
    "    if sql_conditions:\n",
    "        sql_condition = \"WHERE \" + \" AND \".join(sql_conditions)\n",
    "    else:\n",
    "        sql_condition = \"\"\n",
    "\n",
    "    sql = f\"{deduplicate_clause} * FROM ({sql_base}) AS subquery {sql_condition}\"\n",
    "\n",
    "    # Execute the query and save the results to a new table\n",
    "    #new_table_id = f\"{table_id}_cleaned\"\n",
    "    #new_table_ref = client.dataset(table_ref.dataset_id).table(new_table_id)\n",
    "    \n",
    "    new_table_id = f\"{project_id}.{table_ref.dataset_id}.{table_ref.table_id}_cleaned\"\n",
    "    new_table_ref = client.dataset(table_ref.dataset_id).table(f\"{table_ref.table_id}_cleaned\")\n",
    "\n",
    "    job_config = bigquery.QueryJobConfig(destination=new_table_ref)\n",
    "    query_job = client.query(sql, job_config=job_config)\n",
    "    query_job.result()\n",
    "\n",
    "    print(f\"Cleaned table saved as {new_table_id}.\")\n"
   ]
  },
  {
   "cell_type": "code",
   "execution_count": 8,
   "metadata": {},
   "outputs": [
    {
     "name": "stdout",
     "output_type": "stream",
     "text": [
      "Cleaned table saved as snappy-nomad-382716.staging.demographic_cleaned.\n"
     ]
    }
   ],
   "source": [
    "clean_bigquery_table(\"snappy-nomad-382716\",'snappy-nomad-382716.staging.demographic', remove_duplicates=True)"
   ]
  },
  {
   "cell_type": "code",
   "execution_count": 9,
   "metadata": {},
   "outputs": [
    {
     "name": "stdout",
     "output_type": "stream",
     "text": [
      "Cleaned table saved as snappy-nomad-382716.staging.referal_cleaned.\n"
     ]
    }
   ],
   "source": [
    "clean_bigquery_table(\"snappy-nomad-382716\",'snappy-nomad-382716.staging.referal', remove_duplicates=True)"
   ]
  },
  {
   "cell_type": "code",
   "execution_count": null,
   "metadata": {},
   "outputs": [],
   "source": []
  }
 ],
 "metadata": {
  "kernelspec": {
   "display_name": "Python 3",
   "language": "python",
   "name": "python3"
  },
  "language_info": {
   "codemirror_mode": {
    "name": "ipython",
    "version": 3
   },
   "file_extension": ".py",
   "mimetype": "text/x-python",
   "name": "python",
   "nbconvert_exporter": "python",
   "pygments_lexer": "ipython3",
   "version": "3.10.6"
  },
  "orig_nbformat": 4
 },
 "nbformat": 4,
 "nbformat_minor": 2
}
