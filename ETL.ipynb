{
 "cells": [
  {
   "cell_type": "code",
   "execution_count": 1,
   "metadata": {},
   "outputs": [],
   "source": [
    "import os\n",
    "from google.cloud import bigquery\n",
    "import pandas as pd\n",
    "import json"
   ]
  },
  {
   "cell_type": "code",
   "execution_count": 2,
   "metadata": {},
   "outputs": [],
   "source": [
    "credentials = os.environ[\"GOOGLE_APPLICATION_CREDENTIALS\"] =\"ETL-setup.json\""
   ]
  },
  {
   "cell_type": "code",
   "execution_count": 3,
   "metadata": {},
   "outputs": [],
   "source": [
    "#load data from local machine to bigquery - staging area\n",
    "def load_csv_to_bigquery(csv_path, project_id, table_name):\n",
    "    dataset_name = 'staging'\n",
    "    # Create a BigQuery client using your service account key file\n",
    "    #credentials = service_account.Credentials.from_service_account_file(key_path)\n",
    "    client = bigquery.Client(project=project_id)\n",
    "\n",
    "    # Read the CSV file into a Pandas dataframe\n",
    "    df = pd.read_csv(csv_path, encoding='ISO-8859-1')\n",
    "\n",
    "    # Create the BigQuery dataset if it doesn't exist\n",
    "    dataset_ref = client.dataset(dataset_name)\n",
    "    try:\n",
    "        client.get_dataset(dataset_ref)\n",
    "        print(\"Dataset {} already exists\".format(dataset_name))\n",
    "    except:\n",
    "        print(\"Creating dataset {}\".format(dataset_name))\n",
    "        dataset = bigquery.Dataset(dataset_ref)\n",
    "        client.create_dataset(dataset)\n",
    "\n",
    "    # Set the destination table for the data\n",
    "    table_ref = dataset_ref.table(table_name)\n",
    "\n",
    "    # Define the schema of the table\n",
    "    schema = []\n",
    "    for column in df.columns:\n",
    "        schema.append(bigquery.SchemaField(column, 'STRING'))\n",
    "\n",
    "    # Create the table in BigQuery\n",
    "    table = bigquery.Table(table_ref, schema=schema)\n",
    "    table = client.create_table(table)\n",
    "\n",
    "    # Load the data into the table\n",
    "    job_config = bigquery.LoadJobConfig()\n",
    "    job_config.source_format = bigquery.SourceFormat.CSV\n",
    "    job_config.skip_leading_rows = 1\n",
    "    job_config.autodetect = False # Set to True to automatically detect schema, False to use schema defined above\n",
    "    job = client.load_table_from_dataframe(df, table_ref, job_config=job_config)\n",
    "    job.result()\n",
    "\n",
    "    print(\"Data uploaded to BigQuery successfully.\")"
   ]
  },
  {
   "cell_type": "code",
   "execution_count": 4,
   "metadata": {},
   "outputs": [],
   "source": [
    "\n",
    "def load_csv_to_bigquery_autodetect(csv_path, project_id, table_name):\n",
    "    dataset_name = 'staging'\n",
    "    # Create a BigQuery client \n",
    "    bq_client = bigquery.Client(project=project_id)\n",
    "\n",
    "    # Create the BigQuery dataset if it doesn't exist\n",
    "    dataset_ref = bq_client.dataset(dataset_name)\n",
    "    try:\n",
    "        bq_client.get_dataset(dataset_ref)\n",
    "        print(\"Dataset {} already exists\".format(dataset_name))\n",
    "    except:\n",
    "        print(\"Creating dataset {}\".format(dataset_name))\n",
    "        dataset = bigquery.Dataset(dataset_ref)\n",
    "        bq_client.create_dataset(dataset)\n",
    "\n",
    "    # Set the destination table for the data\n",
    "    table_ref = dataset_ref.table(table_name)\n",
    "\n",
    "    # Create the table in BigQuery with schema autodetection\n",
    "    job_config = bigquery.LoadJobConfig()\n",
    "    job_config.source_format = bigquery.SourceFormat.CSV\n",
    "    job_config.skip_leading_rows = 1\n",
    "    job_config.autodetect = True # Set to True to automatically detect schema\n",
    "\n",
    "    with open(csv_path, \"rb\") as source_file:\n",
    "        job = bq_client.load_table_from_file(\n",
    "            source_file,\n",
    "            table_ref,\n",
    "            job_config=job_config\n",
    "        )\n",
    "        job.result()  # Wait for the job to complete.\n",
    "\n",
    "    print(\"Data uploaded to BigQuery successfully.\")\n"
   ]
  },
  {
   "cell_type": "code",
   "execution_count": 5,
   "metadata": {},
   "outputs": [],
   "source": [
    "def clean_bigquery_table(project_id, table_id, remove_nulls=False, remove_duplicates=False, date_columns=None, columns_to_check=None):\n",
    "    \"\"\"\n",
    "    Clean a BigQuery table by removing null values and/or duplicates.\n",
    "\n",
    "    Args:\n",
    "        project_id (str): The Google Cloud Project ID.\n",
    "        table_id (str): The BigQuery table ID.\n",
    "        remove_nulls (bool, optional): Whether to remove rows with null values. Defaults to False.\n",
    "        columns_to_check (list, optional): List of columns to check for null values or duplicates. Defaults to None (all columns).\n",
    "        remove_duplicates (bool, optional): Whether to remove duplicate rows. Defaults to False.\n",
    "        date_columns (list, optional): List of columns to convert to date format. Defaults to None.\n",
    "\n",
    "    Returns:\n",
    "        None\n",
    "    \"\"\"\n",
    "    client = bigquery.Client()\n",
    "    table_ref = client.get_table(table_id)\n",
    "    table = client.get_table(table_ref)\n",
    "\n",
    "    if columns_to_check is None:\n",
    "        columns_to_check = [field.name for field in table.schema]\n",
    "\n",
    "    sql_base = f\"SELECT * FROM `{table_id}`\"\n",
    "    sql_conditions = []\n",
    "\n",
    "    if remove_nulls:\n",
    "        not_null_conditions = [f\"{column} IS NOT NULL\" for column in columns_to_check]\n",
    "        sql_conditions.append(\" AND \".join(not_null_conditions))\n",
    "\n",
    "    if remove_duplicates:\n",
    "        deduplicate_clause = \"SELECT DISTINCT\"\n",
    "    else:\n",
    "        deduplicate_clause = \"SELECT\"\n",
    "\n",
    "    if sql_conditions:\n",
    "        sql_condition = \"WHERE \" + \" AND \".join(sql_conditions)\n",
    "    else:\n",
    "        sql_condition = \"\"\n",
    "\n",
    "    # Handle date column transformation, and make all columns lower case\n",
    "    select_columns = []\n",
    "    for column in table.schema:\n",
    "        if column.name in date_columns:\n",
    "            select_columns.append(f\"PARSE_DATE('%d-%m-%Y', REGEXP_REPLACE({column.name}, r'/', '-')) AS {column.name.lower()}\")\n",
    "        else:\n",
    "            select_columns.append(column.name.lower())\n",
    "\n",
    "\n",
    "        sql = f\"{deduplicate_clause} {', '.join(select_columns)} FROM ({sql_base}) AS subquery {sql_condition}\"\n",
    "\n",
    "    # Execute the query and save the results to a new table\n",
    "    new_table_id = f\"{project_id}.{table_ref.dataset_id}.{table_ref.table_id}_cleaned\"\n",
    "    new_table_ref = client.dataset(table_ref.dataset_id).table(f\"{table_ref.table_id}_cleaned\")\n",
    "\n",
    "    job_config = bigquery.QueryJobConfig(destination=new_table_ref)\n",
    "    query_job = client.query(sql, job_config=job_config)\n",
    "    query_job.result()\n",
    "\n",
    "    print(f\"Cleaned table saved as {new_table_id}.\")\n"
   ]
  },
  {
   "cell_type": "code",
   "execution_count": 115,
   "metadata": {},
   "outputs": [
    {
     "name": "stdout",
     "output_type": "stream",
     "text": [
      "Dataset staging already exists\n",
      "Data uploaded to BigQuery successfully.\n"
     ]
    }
   ],
   "source": [
    "load_csv_to_bigquery(\"C:\\\\Users\\\\UX501VW\\\\Desktop\\\\BigQuery-Data-Modeling\\\\Dastaset\\\\superstore_dataset2011-2015.csv\", \"snappy-nomad-382716\", \"superstore\")"
   ]
  },
  {
   "cell_type": "code",
   "execution_count": 116,
   "metadata": {},
   "outputs": [
    {
     "name": "stdout",
     "output_type": "stream",
     "text": [
      "Cleaned table saved as snappy-nomad-382716.staging.superstore_cleaned.\n"
     ]
    }
   ],
   "source": [
    "clean_bigquery_table(\"snappy-nomad-382716\", \"snappy-nomad-382716.staging.superstore\", remove_nulls=True, remove_duplicates=True, date_columns=[\"Order_Date\", \"Ship_Date\"], columns_to_check=[\"Customer_ID\", \"Order_Date\", \"Order_ID\", \"Product_ID\"])"
   ]
  },
  {
   "cell_type": "code",
   "execution_count": 6,
   "metadata": {},
   "outputs": [],
   "source": [
    "\n",
    "def create_warehouse_schema_from_json(project_id, json_path):\n",
    "    # Initialize BigQuery client\n",
    "    client = bigquery.Client(project=project_id)\n",
    "\n",
    "    # Load the schema information from the JSON file\n",
    "    with open(json_path, 'r') as f:\n",
    "        schema_info = json.load(f)\n",
    "\n",
    "    # Create a dataset named \"warehouse\" (if it doesn't already exist)\n",
    "    dataset_id = \"warehouse\"\n",
    "    dataset_ref = client.dataset(dataset_id)\n",
    "    try:\n",
    "        client.get_dataset(dataset_ref)\n",
    "    except:\n",
    "        dataset = bigquery.Dataset(dataset_ref)\n",
    "        dataset.location = \"US\"\n",
    "        dataset = client.create_dataset(dataset)\n",
    "\n",
    "    # Define fact table schema\n",
    "    fact_table_name = schema_info['fact_table_name']\n",
    "    fact_table_columns = [bigquery.SchemaField(field['name'], field['type'], mode=field.get('mode', 'NULLABLE')) for field in schema_info['fact_table_columns']]\n",
    "    fact_table_ref = client.dataset(dataset_id).table(fact_table_name)\n",
    "    fact_table = bigquery.Table(fact_table_ref, schema=fact_table_columns)\n",
    "    fact_table = client.create_table(fact_table)  # API request\n",
    "\n",
    "    # Create dimension tables\n",
    "    for dimension_table_name, dimension_table_info in schema_info['dimension_tables'].items():\n",
    "        dimension_table_columns = [bigquery.SchemaField(field['name'], field['type'], mode=field.get('mode', 'NULLABLE')) for field in dimension_table_info]\n",
    "        dimension_table_ref = client.dataset(dataset_id).table(dimension_table_name)\n",
    "        dimension_table = bigquery.Table(dimension_table_ref, schema=dimension_table_columns)\n",
    "        dimension_table = client.create_table(dimension_table)  # API request\n",
    "\n",
    "    # Create fact-dimension mapping tables\n",
    "    for fact_column, dimension_map in schema_info['fact_dimension_key_map'].items():\n",
    "        for dimension_column, dimension_table_name in dimension_map.items():\n",
    "            mapping_table_name = f\"{fact_table_name}_{dimension_table_name}_{dimension_column}\"\n",
    "            mapping_table_columns = [\n",
    "                bigquery.SchemaField(fact_column, 'STRING', mode='REQUIRED'),\n",
    "                bigquery.SchemaField(dimension_column, 'STRING', mode='REQUIRED'),\n",
    "            ]\n",
    "            mapping_table_ref = client.dataset(dataset_id).table(mapping_table_name)\n",
    "            mapping_table = bigquery.Table(mapping_table_ref, schema=mapping_table_columns)\n",
    "            mapping_table = client.create_table(mapping_table)  # API request\n",
    "\n",
    "    print(\"Warehouse schema created successfully.\")\n"
   ]
  },
  {
   "cell_type": "code",
   "execution_count": 182,
   "metadata": {},
   "outputs": [],
   "source": [
    "\n",
    "def load_data_from_staging_to_warehouse(project_id, dataset_warehouse, dataset_staging, staging_table_id, warehouse_table_names):\n",
    "    # Initialize BigQuery client\n",
    "    client = bigquery.Client(project=project_id)\n",
    "\n",
    "    # Iterate through the warehouse table names\n",
    "    for warehouse_table_name in warehouse_table_names:\n",
    "        # Get the schema of the warehouse table\n",
    "        warehouse_table = client.get_table(f\"{project_id}.{dataset_warehouse}.{warehouse_table_name}\")\n",
    "        warehouse_columns = [field.name for field in warehouse_table.schema]\n",
    "\n",
    "        # Create a query to select specific columns from the staging table\n",
    "        source_columns = ', '.join(warehouse_columns)\n",
    "        sql = f\"\"\"\n",
    "            SELECT {source_columns}\n",
    "            FROM `{staging_table_id}`\n",
    "        \"\"\"\n",
    "\n",
    "        # Create table references\n",
    "        destination_table_ref = f\"{project_id}.{dataset_warehouse}.{warehouse_table_name}\"\n",
    "\n",
    "        # Create a load job configuration\n",
    "        job_config = bigquery.QueryJobConfig()\n",
    "        job_config.destination = destination_table_ref\n",
    "        job_config.write_disposition = bigquery.WriteDisposition.WRITE_TRUNCATE\n",
    "\n",
    "        # Run the query job\n",
    "        query_job = client.query(sql, job_config=job_config)\n",
    "        query_job.result()\n",
    "\n",
    "        print(f\"Data copied from {dataset_staging}.{staging_table_id} to {dataset_warehouse}.{warehouse_table_name}\")\n"
   ]
  },
  {
   "cell_type": "code",
   "execution_count": 8,
   "metadata": {},
   "outputs": [],
   "source": [
    "from google.cloud import bigquery\n",
    "\n",
    "def load_data_from_staging_to_warehouse(project_id, dataset_warehouse, dataset_staging, staging_table_id, warehouse_table_names):\n",
    "    # Initialize BigQuery client\n",
    "    client = bigquery.Client(project=project_id)\n",
    "\n",
    "    # Iterate through the warehouse table names\n",
    "    for warehouse_table_name in warehouse_table_names:\n",
    "        # Get the schema of the warehouse table\n",
    "        warehouse_table = client.get_table(f\"{project_id}.{dataset_warehouse}.{warehouse_table_name}\")\n",
    "        warehouse_columns = [field.name for field in warehouse_table.schema]\n",
    "\n",
    "        # Create a query to select and cast specific columns from the staging table\n",
    "        source_columns = ', '.join([f\"CAST({field.name} AS {field.field_type}) AS {field.name}\" for field in warehouse_table.schema])\n",
    "        sql = f\"\"\"\n",
    "            SELECT {source_columns}\n",
    "            FROM `{project_id}.{dataset_staging}.{staging_table_id}`\n",
    "        \"\"\"\n",
    "\n",
    "        # Create table references\n",
    "        destination_table_ref = f\"{project_id}.{dataset_warehouse}.{warehouse_table_name}\"\n",
    "\n",
    "        # Create a load job configuration\n",
    "        job_config = bigquery.QueryJobConfig()\n",
    "        job_config.destination = destination_table_ref\n",
    "        job_config.write_disposition = bigquery.WriteDisposition.WRITE_TRUNCATE\n",
    "\n",
    "        # Run the query job\n",
    "        query_job = client.query(sql, job_config=job_config)\n",
    "        query_job.result()\n",
    "\n",
    "        print(f\"Data copied from {dataset_staging}.{staging_table_id} to {dataset_warehouse}.{warehouse_table_name}\")\n"
   ]
  },
  {
   "cell_type": "code",
   "execution_count": 10,
   "metadata": {},
   "outputs": [
    {
     "name": "stdout",
     "output_type": "stream",
     "text": [
      "Data copied from staging.superstore_cleaned to warehouse.date_dim\n",
      "Data copied from staging.superstore_cleaned to warehouse.customer_dim\n",
      "Data copied from staging.superstore_cleaned to warehouse.product_dim\n"
     ]
    },
    {
     "ename": "BadRequest",
     "evalue": "400 Type not found: FLOAT at [2:198]\n\nLocation: US\nJob ID: 834dfd0e-dcb5-4c88-bb30-fc17a215165b\n",
     "output_type": "error",
     "traceback": [
      "\u001b[1;31m---------------------------------------------------------------------------\u001b[0m",
      "\u001b[1;31mBadRequest\u001b[0m                                Traceback (most recent call last)",
      "Cell \u001b[1;32mIn[10], line 8\u001b[0m\n\u001b[0;32m      5\u001b[0m warehouse_table_names \u001b[39m=\u001b[39m [\u001b[39m\"\u001b[39m\u001b[39mdate_dim\u001b[39m\u001b[39m\"\u001b[39m, \u001b[39m\"\u001b[39m\u001b[39mcustomer_dim\u001b[39m\u001b[39m\"\u001b[39m, \u001b[39m\"\u001b[39m\u001b[39mproduct_dim\u001b[39m\u001b[39m\"\u001b[39m, \u001b[39m\"\u001b[39m\u001b[39msales_fact\u001b[39m\u001b[39m\"\u001b[39m,\u001b[39m\"\u001b[39m\u001b[39msales_fact_customer_dim_customer_id\u001b[39m\u001b[39m\"\u001b[39m, \u001b[39m\"\u001b[39m\u001b[39msales_fact_date_dim_order_date\u001b[39m\u001b[39m\"\u001b[39m, \u001b[39m\"\u001b[39m\u001b[39msales_fact_product_dim_product_id\u001b[39m\u001b[39m\"\u001b[39m]\n\u001b[0;32m      6\u001b[0m \u001b[39m#[\"date_dim\", \"customer_dim\", \"product_dim\", \"order_fact\"]\u001b[39;00m\n\u001b[1;32m----> 8\u001b[0m load_data_from_staging_to_warehouse(project_id, dataset_warehouse, dataset_staging, staging_table_id, warehouse_table_names)\n",
      "Cell \u001b[1;32mIn[8], line 30\u001b[0m, in \u001b[0;36mload_data_from_staging_to_warehouse\u001b[1;34m(project_id, dataset_warehouse, dataset_staging, staging_table_id, warehouse_table_names)\u001b[0m\n\u001b[0;32m     28\u001b[0m \u001b[39m# Run the query job\u001b[39;00m\n\u001b[0;32m     29\u001b[0m query_job \u001b[39m=\u001b[39m client\u001b[39m.\u001b[39mquery(sql, job_config\u001b[39m=\u001b[39mjob_config)\n\u001b[1;32m---> 30\u001b[0m query_job\u001b[39m.\u001b[39;49mresult()\n\u001b[0;32m     32\u001b[0m \u001b[39mprint\u001b[39m(\u001b[39mf\u001b[39m\u001b[39m\"\u001b[39m\u001b[39mData copied from \u001b[39m\u001b[39m{\u001b[39;00mdataset_staging\u001b[39m}\u001b[39;00m\u001b[39m.\u001b[39m\u001b[39m{\u001b[39;00mstaging_table_id\u001b[39m}\u001b[39;00m\u001b[39m to \u001b[39m\u001b[39m{\u001b[39;00mdataset_warehouse\u001b[39m}\u001b[39;00m\u001b[39m.\u001b[39m\u001b[39m{\u001b[39;00mwarehouse_table_name\u001b[39m}\u001b[39;00m\u001b[39m\"\u001b[39m)\n",
      "File \u001b[1;32mc:\\Users\\UX501VW\\AppData\\Local\\Programs\\Python\\Python310\\lib\\site-packages\\google\\cloud\\bigquery\\job\\query.py:1507\u001b[0m, in \u001b[0;36mQueryJob.result\u001b[1;34m(self, page_size, max_results, retry, timeout, start_index, job_retry)\u001b[0m\n\u001b[0;32m   1504\u001b[0m     \u001b[39mif\u001b[39;00m retry_do_query \u001b[39mis\u001b[39;00m \u001b[39mnot\u001b[39;00m \u001b[39mNone\u001b[39;00m \u001b[39mand\u001b[39;00m job_retry \u001b[39mis\u001b[39;00m \u001b[39mnot\u001b[39;00m \u001b[39mNone\u001b[39;00m:\n\u001b[0;32m   1505\u001b[0m         do_get_result \u001b[39m=\u001b[39m job_retry(do_get_result)\n\u001b[1;32m-> 1507\u001b[0m     do_get_result()\n\u001b[0;32m   1509\u001b[0m \u001b[39mexcept\u001b[39;00m exceptions\u001b[39m.\u001b[39mGoogleAPICallError \u001b[39mas\u001b[39;00m exc:\n\u001b[0;32m   1510\u001b[0m     exc\u001b[39m.\u001b[39mmessage \u001b[39m=\u001b[39m _EXCEPTION_FOOTER_TEMPLATE\u001b[39m.\u001b[39mformat(\n\u001b[0;32m   1511\u001b[0m         message\u001b[39m=\u001b[39mexc\u001b[39m.\u001b[39mmessage, location\u001b[39m=\u001b[39m\u001b[39mself\u001b[39m\u001b[39m.\u001b[39mlocation, job_id\u001b[39m=\u001b[39m\u001b[39mself\u001b[39m\u001b[39m.\u001b[39mjob_id\n\u001b[0;32m   1512\u001b[0m     )\n",
      "File \u001b[1;32mc:\\Users\\UX501VW\\AppData\\Local\\Programs\\Python\\Python310\\lib\\site-packages\\google\\api_core\\retry.py:349\u001b[0m, in \u001b[0;36mRetry.__call__.<locals>.retry_wrapped_func\u001b[1;34m(*args, **kwargs)\u001b[0m\n\u001b[0;32m    345\u001b[0m target \u001b[39m=\u001b[39m functools\u001b[39m.\u001b[39mpartial(func, \u001b[39m*\u001b[39margs, \u001b[39m*\u001b[39m\u001b[39m*\u001b[39mkwargs)\n\u001b[0;32m    346\u001b[0m sleep_generator \u001b[39m=\u001b[39m exponential_sleep_generator(\n\u001b[0;32m    347\u001b[0m     \u001b[39mself\u001b[39m\u001b[39m.\u001b[39m_initial, \u001b[39mself\u001b[39m\u001b[39m.\u001b[39m_maximum, multiplier\u001b[39m=\u001b[39m\u001b[39mself\u001b[39m\u001b[39m.\u001b[39m_multiplier\n\u001b[0;32m    348\u001b[0m )\n\u001b[1;32m--> 349\u001b[0m \u001b[39mreturn\u001b[39;00m retry_target(\n\u001b[0;32m    350\u001b[0m     target,\n\u001b[0;32m    351\u001b[0m     \u001b[39mself\u001b[39;49m\u001b[39m.\u001b[39;49m_predicate,\n\u001b[0;32m    352\u001b[0m     sleep_generator,\n\u001b[0;32m    353\u001b[0m     \u001b[39mself\u001b[39;49m\u001b[39m.\u001b[39;49m_timeout,\n\u001b[0;32m    354\u001b[0m     on_error\u001b[39m=\u001b[39;49mon_error,\n\u001b[0;32m    355\u001b[0m )\n",
      "File \u001b[1;32mc:\\Users\\UX501VW\\AppData\\Local\\Programs\\Python\\Python310\\lib\\site-packages\\google\\api_core\\retry.py:191\u001b[0m, in \u001b[0;36mretry_target\u001b[1;34m(target, predicate, sleep_generator, timeout, on_error, **kwargs)\u001b[0m\n\u001b[0;32m    189\u001b[0m \u001b[39mfor\u001b[39;00m sleep \u001b[39min\u001b[39;00m sleep_generator:\n\u001b[0;32m    190\u001b[0m     \u001b[39mtry\u001b[39;00m:\n\u001b[1;32m--> 191\u001b[0m         \u001b[39mreturn\u001b[39;00m target()\n\u001b[0;32m    193\u001b[0m     \u001b[39m# pylint: disable=broad-except\u001b[39;00m\n\u001b[0;32m    194\u001b[0m     \u001b[39m# This function explicitly must deal with broad exceptions.\u001b[39;00m\n\u001b[0;32m    195\u001b[0m     \u001b[39mexcept\u001b[39;00m \u001b[39mException\u001b[39;00m \u001b[39mas\u001b[39;00m exc:\n",
      "File \u001b[1;32mc:\\Users\\UX501VW\\AppData\\Local\\Programs\\Python\\Python310\\lib\\site-packages\\google\\cloud\\bigquery\\job\\query.py:1497\u001b[0m, in \u001b[0;36mQueryJob.result.<locals>.do_get_result\u001b[1;34m()\u001b[0m\n\u001b[0;32m   1494\u001b[0m     \u001b[39mself\u001b[39m\u001b[39m.\u001b[39m_retry_do_query \u001b[39m=\u001b[39m retry_do_query\n\u001b[0;32m   1495\u001b[0m     \u001b[39mself\u001b[39m\u001b[39m.\u001b[39m_job_retry \u001b[39m=\u001b[39m job_retry\n\u001b[1;32m-> 1497\u001b[0m \u001b[39msuper\u001b[39;49m(QueryJob, \u001b[39mself\u001b[39;49m)\u001b[39m.\u001b[39;49mresult(retry\u001b[39m=\u001b[39;49mretry, timeout\u001b[39m=\u001b[39;49mtimeout)\n\u001b[0;32m   1499\u001b[0m \u001b[39m# Since the job could already be \"done\" (e.g. got a finished job\u001b[39;00m\n\u001b[0;32m   1500\u001b[0m \u001b[39m# via client.get_job), the superclass call to done() might not\u001b[39;00m\n\u001b[0;32m   1501\u001b[0m \u001b[39m# set the self._query_results cache.\u001b[39;00m\n\u001b[0;32m   1502\u001b[0m \u001b[39mself\u001b[39m\u001b[39m.\u001b[39m_reload_query_results(retry\u001b[39m=\u001b[39mretry, timeout\u001b[39m=\u001b[39mtimeout)\n",
      "File \u001b[1;32mc:\\Users\\UX501VW\\AppData\\Local\\Programs\\Python\\Python310\\lib\\site-packages\\google\\cloud\\bigquery\\job\\base.py:911\u001b[0m, in \u001b[0;36m_AsyncJob.result\u001b[1;34m(self, retry, timeout)\u001b[0m\n\u001b[0;32m    908\u001b[0m     \u001b[39mself\u001b[39m\u001b[39m.\u001b[39m_begin(retry\u001b[39m=\u001b[39mretry, timeout\u001b[39m=\u001b[39mtimeout)\n\u001b[0;32m    910\u001b[0m kwargs \u001b[39m=\u001b[39m {} \u001b[39mif\u001b[39;00m retry \u001b[39mis\u001b[39;00m DEFAULT_RETRY \u001b[39melse\u001b[39;00m {\u001b[39m\"\u001b[39m\u001b[39mretry\u001b[39m\u001b[39m\"\u001b[39m: retry}\n\u001b[1;32m--> 911\u001b[0m \u001b[39mreturn\u001b[39;00m \u001b[39msuper\u001b[39m(_AsyncJob, \u001b[39mself\u001b[39m)\u001b[39m.\u001b[39mresult(timeout\u001b[39m=\u001b[39mtimeout, \u001b[39m*\u001b[39m\u001b[39m*\u001b[39mkwargs)\n",
      "File \u001b[1;32mc:\\Users\\UX501VW\\AppData\\Local\\Programs\\Python\\Python310\\lib\\site-packages\\google\\api_core\\future\\polling.py:261\u001b[0m, in \u001b[0;36mPollingFuture.result\u001b[1;34m(self, timeout, retry, polling)\u001b[0m\n\u001b[0;32m    256\u001b[0m \u001b[39mself\u001b[39m\u001b[39m.\u001b[39m_blocking_poll(timeout\u001b[39m=\u001b[39mtimeout, retry\u001b[39m=\u001b[39mretry, polling\u001b[39m=\u001b[39mpolling)\n\u001b[0;32m    258\u001b[0m \u001b[39mif\u001b[39;00m \u001b[39mself\u001b[39m\u001b[39m.\u001b[39m_exception \u001b[39mis\u001b[39;00m \u001b[39mnot\u001b[39;00m \u001b[39mNone\u001b[39;00m:\n\u001b[0;32m    259\u001b[0m     \u001b[39m# pylint: disable=raising-bad-type\u001b[39;00m\n\u001b[0;32m    260\u001b[0m     \u001b[39m# Pylint doesn't recognize that this is valid in this case.\u001b[39;00m\n\u001b[1;32m--> 261\u001b[0m     \u001b[39mraise\u001b[39;00m \u001b[39mself\u001b[39m\u001b[39m.\u001b[39m_exception\n\u001b[0;32m    263\u001b[0m \u001b[39mreturn\u001b[39;00m \u001b[39mself\u001b[39m\u001b[39m.\u001b[39m_result\n",
      "\u001b[1;31mBadRequest\u001b[0m: 400 Type not found: FLOAT at [2:198]\n\nLocation: US\nJob ID: 834dfd0e-dcb5-4c88-bb30-fc17a215165b\n"
     ]
    }
   ],
   "source": [
    "\n",
    "project_id = \"snappy-nomad-382716\"\n",
    "dataset_warehouse = \"warehouse\"\n",
    "dataset_staging = \"staging\"\n",
    "staging_table_id = \"superstore_cleaned\"\n",
    "warehouse_table_names = [\"date_dim\", \"customer_dim\", \"product_dim\", \"sales_fact\",\"sales_fact_customer_dim_customer_id\", \"sales_fact_date_dim_order_date\", \"sales_fact_product_dim_product_id\"]\n",
    "#[\"date_dim\", \"customer_dim\", \"product_dim\", \"order_fact\"]\n",
    "\n",
    "load_data_from_staging_to_warehouse(project_id, dataset_warehouse, dataset_staging, staging_table_id, warehouse_table_names)"
   ]
  },
  {
   "cell_type": "code",
   "execution_count": 7,
   "metadata": {},
   "outputs": [
    {
     "name": "stdout",
     "output_type": "stream",
     "text": [
      "Warehouse schema created successfully.\n"
     ]
    }
   ],
   "source": [
    "create_warehouse_schema_from_json(\"snappy-nomad-382716\", \"C:\\\\Users\\\\UX501VW\\\\Desktop\\\\BigQuery-Data-Modeling\\\\schema.json\")"
   ]
  },
  {
   "cell_type": "code",
   "execution_count": null,
   "metadata": {},
   "outputs": [],
   "source": []
  }
 ],
 "metadata": {
  "kernelspec": {
   "display_name": "Python 3",
   "language": "python",
   "name": "python3"
  },
  "language_info": {
   "codemirror_mode": {
    "name": "ipython",
    "version": 3
   },
   "file_extension": ".py",
   "mimetype": "text/x-python",
   "name": "python",
   "nbconvert_exporter": "python",
   "pygments_lexer": "ipython3",
   "version": "3.10.6"
  },
  "orig_nbformat": 4
 },
 "nbformat": 4,
 "nbformat_minor": 2
}
