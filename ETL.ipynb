{
 "cells": [
  {
   "cell_type": "code",
   "execution_count": 3,
   "metadata": {},
   "outputs": [],
   "source": [
    "import os\n",
    "from google.cloud import bigquery\n",
    "import pandas as pd"
   ]
  },
  {
   "cell_type": "code",
   "execution_count": 7,
   "metadata": {},
   "outputs": [],
   "source": [
    "credentials = os.environ[\"GOOGLE_APPLICATION_CREDENTIALS\"] =\"ETL-setup.json\""
   ]
  },
  {
   "cell_type": "code",
   "execution_count": 9,
   "metadata": {},
   "outputs": [],
   "source": [
    "#load data from local machine to bigquery - staging area\n",
    "def load_csv_to_bigquery(csv_path, project_id, table_name):\n",
    "    dataset_name = 'staging'\n",
    "    # Create a BigQuery client using your service account key file\n",
    "    #credentials = service_account.Credentials.from_service_account_file(key_path)\n",
    "    client = bigquery.Client(project=project_id)\n",
    "\n",
    "    # Read the CSV file into a Pandas dataframe\n",
    "    df = pd.read_csv(csv_path)\n",
    "\n",
    "    # Create the BigQuery dataset if it doesn't exist\n",
    "    dataset_ref = client.dataset(dataset_name)\n",
    "    try:\n",
    "        client.get_dataset(dataset_ref)\n",
    "        print(\"Dataset {} already exists\".format(dataset_name))\n",
    "    except:\n",
    "        print(\"Creating dataset {}\".format(dataset_name))\n",
    "        dataset = bigquery.Dataset(dataset_ref)\n",
    "        client.create_dataset(dataset)\n",
    "\n",
    "    # Set the destination table for the data\n",
    "    table_ref = dataset_ref.table(table_name)\n",
    "\n",
    "    # Define the schema of the table\n",
    "    schema = []\n",
    "    for column in df.columns:\n",
    "        schema.append(bigquery.SchemaField(column, 'STRING'))\n",
    "\n",
    "    # Create the table in BigQuery\n",
    "    table = bigquery.Table(table_ref, schema=schema)\n",
    "    table = client.create_table(table)\n",
    "\n",
    "    # Load the data into the table\n",
    "    job_config = bigquery.LoadJobConfig()\n",
    "    job_config.source_format = bigquery.SourceFormat.CSV\n",
    "    job_config.skip_leading_rows = 1\n",
    "    job_config.autodetect = False # Set to True to automatically detect schema, False to use schema defined above\n",
    "    job = client.load_table_from_dataframe(df, table_ref, job_config=job_config)\n",
    "    job.result()\n",
    "\n",
    "    print(\"Data uploaded to BigQuery successfully.\")"
   ]
  },
  {
   "cell_type": "code",
   "execution_count": 13,
   "metadata": {},
   "outputs": [
    {
     "name": "stdout",
     "output_type": "stream",
     "text": [
      "Creating dataset staging\n",
      "Data uploaded to BigQuery successfully.\n"
     ]
    }
   ],
   "source": [
    "load_csv_to_bigquery(\"C:\\\\Users\\\\UX501VW\\\\Desktop\\\\BigQuery-Data-Modeling\\\\Dastaset\\\\demographic.csv\", \"snappy-nomad-382716\", \"demographic\")"
   ]
  },
  {
   "cell_type": "code",
   "execution_count": 14,
   "metadata": {},
   "outputs": [
    {
     "name": "stdout",
     "output_type": "stream",
     "text": [
      "Dataset staging already exists\n",
      "Data uploaded to BigQuery successfully.\n",
      "Dataset staging already exists\n",
      "Data uploaded to BigQuery successfully.\n"
     ]
    }
   ],
   "source": [
    "load_csv_to_bigquery(\"C:\\\\Users\\\\UX501VW\\\\Desktop\\\\BigQuery-Data-Modeling\\\\Dastaset\\\\referral.csv\", \"snappy-nomad-382716\", \"referal\")\n",
    "load_csv_to_bigquery(\"C:\\\\Users\\\\UX501VW\\\\Desktop\\\\BigQuery-Data-Modeling\\\\Dastaset\\\\transactions.csv\", \"snappy-nomad-382716\", \"transactions\")"
   ]
  },
  {
   "cell_type": "code",
   "execution_count": null,
   "metadata": {},
   "outputs": [],
   "source": []
  }
 ],
 "metadata": {
  "kernelspec": {
   "display_name": "Python 3",
   "language": "python",
   "name": "python3"
  },
  "language_info": {
   "codemirror_mode": {
    "name": "ipython",
    "version": 3
   },
   "file_extension": ".py",
   "mimetype": "text/x-python",
   "name": "python",
   "nbconvert_exporter": "python",
   "pygments_lexer": "ipython3",
   "version": "3.10.6"
  },
  "orig_nbformat": 4
 },
 "nbformat": 4,
 "nbformat_minor": 2
}
